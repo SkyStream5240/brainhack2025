{
 "cells": [
  {
   "cell_type": "markdown",
   "id": "a122695c-b08c-4419-ace4-5f9829e0bc0a",
   "metadata": {},
   "source": [
    "Use the nilearn library function fetch_atlas_difumo to get the 64 parcellation image. As we learned in the video, the data in this image is just a number array and you can maniputate it with numpy. Please extract the 16th region, binarize it, and save it as a new nifti image.\n",
    "\n",
    "Use the slicer object to view the new nifti file we created in the three different views."
   ]
  },
  {
   "cell_type": "code",
   "execution_count": 1,
   "id": "0e354d49-fab5-4099-bee7-26219d5b8f21",
   "metadata": {},
   "outputs": [],
   "source": [
    "import nibabel as nib\n",
    "import numpy as np\n",
    "import matplotlib.pyplot as plt\n",
    "from nilearn import plotting as nlp\n",
    "\n",
    "sub02_1_dir = '/Users/hycheng/Desktop/MS/113-2/BH/ses-00/sub-02/mswaF1_ep2d_moco_4mm_240_1-6_20230612155952_8.nii'"
   ]
  },
  {
   "cell_type": "code",
   "execution_count": 2,
   "id": "96cc4264-2570-483c-b3d4-9a0f51f22f3b",
   "metadata": {},
   "outputs": [
    {
     "data": {
      "text/plain": [
       "'/Users/hycheng/nilearn_data/difumo_atlases/64/2mm/maps.nii.gz'"
      ]
     },
     "execution_count": 2,
     "metadata": {},
     "output_type": "execute_result"
    }
   ],
   "source": []
  },
  {
   "cell_type": "code",
   "execution_count": 15,
   "id": "e8fe4fe2-1f1f-481b-82f0-e23f96fee84f",
   "metadata": {},
   "outputs": [
    {
     "ename": "AttributeError",
     "evalue": "'numpy.ndarray' object has no attribute 'affine'",
     "output_type": "error",
     "traceback": [
      "\u001b[0;31m---------------------------------------------------------------------------\u001b[0m",
      "\u001b[0;31mAttributeError\u001b[0m                            Traceback (most recent call last)",
      "Cell \u001b[0;32mIn[15], line 4\u001b[0m\n\u001b[1;32m      2\u001b[0m slice16 \u001b[38;5;241m=\u001b[39m a_map[:,:,:, \u001b[38;5;241m15\u001b[39m]\n\u001b[1;32m      3\u001b[0m bin16 \u001b[38;5;241m=\u001b[39m np\u001b[38;5;241m.\u001b[39mwhere(a_map\u001b[38;5;241m>\u001b[39m\u001b[38;5;241m0\u001b[39m, \u001b[38;5;241m1\u001b[39m, \u001b[38;5;241m0\u001b[39m)\n\u001b[0;32m----> 4\u001b[0m img \u001b[38;5;241m=\u001b[39m nib\u001b[38;5;241m.\u001b[39mNifti1Image(slice16, affine\u001b[38;5;241m=\u001b[39mslice16\u001b[38;5;241m.\u001b[39maffine)\n\u001b[1;32m      5\u001b[0m img\u001b[38;5;241m.\u001b[39morthoview()\n",
      "\u001b[0;31mAttributeError\u001b[0m: 'numpy.ndarray' object has no attribute 'affine'"
     ]
    }
   ],
   "source": [
    "a_map = nib.load(sub02_1_dir)\n",
    "data = a_map.get_fdata()\n",
    "\n",
    "img = nib.Nifti1Image(slice16, affine=a_map.affine)\n",
    "img.orthoview()"
   ]
  },
  {
   "cell_type": "code",
   "execution_count": null,
   "id": "646304cb-4ac0-473c-8eb4-32bd88c70a39",
   "metadata": {},
   "outputs": [],
   "source": [
    "orthoview()"
   ]
  },
  {
   "cell_type": "code",
   "execution_count": null,
   "id": "bd679659-11ba-49f2-9388-771bb75011d2",
   "metadata": {},
   "outputs": [],
   "source": []
  }
 ],
 "metadata": {
  "kernelspec": {
   "display_name": "Python [conda env:base] *",
   "language": "python",
   "name": "conda-base-py"
  },
  "language_info": {
   "codemirror_mode": {
    "name": "ipython",
    "version": 3
   },
   "file_extension": ".py",
   "mimetype": "text/x-python",
   "name": "python",
   "nbconvert_exporter": "python",
   "pygments_lexer": "ipython3",
   "version": "3.12.7"
  }
 },
 "nbformat": 4,
 "nbformat_minor": 5
}
